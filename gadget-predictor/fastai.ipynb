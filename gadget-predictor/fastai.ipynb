{
 "cells": [
  {
   "cell_type": "code",
   "execution_count": null,
   "id": "0",
   "metadata": {},
   "outputs": [],
   "source": [
    "from pathlib import Path\n",
    "import os\n",
    "import warnings\n",
    "warnings.filterwarnings(\n",
    "    'ignore',\n",
    "    message='Palette images with Transparency expressed in bytes should be converted to RGBA images',\n",
    "    category=UserWarning,\n",
    "    module='PIL.Image'\n",
    ")\n",
    "# Constants.\n",
    "DATASET_DIR = Path(os.getcwd()) / \"datasets\"\n"
   ]
  },
  {
   "cell_type": "code",
   "execution_count": null,
   "id": "1",
   "metadata": {},
   "outputs": [],
   "source": [
    "# Wanb init.\n",
    "def init_wandb():\n",
    "    try:\n",
    "        import wandb\n",
    "        # Start a new wandb run to track this script.\n",
    "        return wandb.init(\n",
    "            # Set the wandb entity where your project will be logged (generally your team name).\n",
    "            entity=\"prinzz-personal\",\n",
    "            # Set the wandb project where this run will be logged.\n",
    "            project=\"gadgets-predictor\",\n",
    "            # Track hyperparameters and run metadata.\n",
    "            config={\n",
    "                \"learning_rate\": 0.02,\n",
    "                \"architecture\": \"CNN\",\n",
    "                \"dataset\": \"images\",\n",
    "                \"epochs\": 10,\n",
    "            },\n",
    "        )\n",
    "    except ImportError:\n",
    "        print(\"wandb is not installed. Skipping wandb initialization.\")\n",
    "    except Exception as e:\n",
    "        print(f\"An error occurred during wandb initialization: {e}\")\n"
   ]
  },
  {
   "cell_type": "code",
   "execution_count": null,
   "id": "2",
   "metadata": {},
   "outputs": [],
   "source": [
    "from duckduckgo_search import DDGS\n",
    "import requests\n",
    "import dask\n",
    "from fastai.vision.all import get_image_files\n",
    "from dask.distributed import Client\n",
    "\n",
    "def download_images(query, output_dir, max_results=50):\n",
    "    os.makedirs(output_dir, exist_ok=True)\n",
    "\n",
    "    # Check if output_dir already has enough images\n",
    "    existing_files = [\n",
    "        f for f in os.listdir(output_dir)\n",
    "        if os.path.isfile(os.path.join(output_dir, f))\n",
    "    ]\n",
    "\n",
    "    if len(existing_files) >= max_results:\n",
    "        print(f\"Skipping '{query}': {len(existing_files)} images already present.\")\n",
    "        return\n",
    "\n",
    "    ddg = DDGS()\n",
    "    results = ddg.images(query, max_results=max_results)\n",
    "\n",
    "    downloaded = len(existing_files)\n",
    "    \n",
    "    for idx, result in enumerate(results):\n",
    "        if downloaded >= max_results:\n",
    "            break\n",
    "        image_url = result[\"image\"]\n",
    "        try:\n",
    "            response = requests.get(image_url, timeout=10)\n",
    "            response.raise_for_status()\n",
    "            ext = image_url.split(\".\")[-1].split(\"?\")[0][:4]\n",
    "            filename = os.path.join(output_dir, f\"{query.replace(' ', '_')}_{downloaded}.{ext}\")\n",
    "            with open(filename, \"wb\") as f:\n",
    "                f.write(response.content)\n",
    "            print(f\"Downloaded: {filename}\")\n",
    "            downloaded += 1\n",
    "        except Exception as e:\n",
    "            print(f\"Failed to download {image_url}: {e}\")\n",
    "\n",
    "client = Client(threads_per_worker=os.cpu_count() // 2, n_workers=os.cpu_count())\n",
    "gadgets = [\"smartphone\", \"tablet\", \"smartwatch\", \"headphones\", \"camera\"]\n",
    "parallel_results = []\n",
    "for gadget in gadgets:\n",
    "    parallel_result= dask.delayed(download_images)(gadget, output_dir=DATASET_DIR / gadget, max_results=200)\n",
    "    parallel_results.append(parallel_result)\n",
    "# parallel_results = dask.compute(*parallel_results)\n",
    "print(\"All downloads completed.\")\n",
    "\n",
    "\n"
   ]
  },
  {
   "cell_type": "code",
   "execution_count": null,
   "id": "3",
   "metadata": {},
   "outputs": [],
   "source": [
    "from fastai.vision.all import ImageDataLoaders, Resize,Transform\n",
    "\n",
    "# Improved convert_to_rgb to handle palette images with transparency (fixes PIL warning)\n",
    "from PIL import Image\n",
    "def convert_to_rgb(img):\n",
    "    if img.mode == \"P\":\n",
    "        if \"transparency\" in img.info:\n",
    "            img = img.convert(\"RGBA\")\n",
    "        else:\n",
    "            img = img.convert(\"RGB\")\n",
    "    elif img.mode in (\"RGBA\", \"LA\"):\n",
    "        img = img.convert(\"RGB\")\n",
    "    return img\n",
    "\n",
    "class ConvertToRGB(Transform):\n",
    "    def encodes(self, img):\n",
    "        return convert_to_rgb(img)\n",
    "    \n",
    "# Dataloaders.\n",
    "dls = ImageDataLoaders.from_folder(DATASET_DIR,\n",
    "                                   train_pct=0.8,\n",
    "                                   valid_pct=0.2,\n",
    "                                   item_tfms=[ConvertToRGB(),Resize(224)])\n"
   ]
  },
  {
   "cell_type": "code",
   "execution_count": null,
   "id": "4",
   "metadata": {},
   "outputs": [],
   "source": [
    "from fastai.vision.all import vision_learner,resnet18,error_rate,accuracy\n",
    "learn = vision_learner(dls, resnet18, metrics=[accuracy,error_rate],pretrained=True)\n",
    "learn.fine_tune(3)"
   ]
  },
  {
   "cell_type": "code",
   "execution_count": null,
   "id": "5",
   "metadata": {},
   "outputs": [],
   "source": [
    "learn.show_results()"
   ]
  },
  {
   "cell_type": "code",
   "execution_count": null,
   "id": "6",
   "metadata": {},
   "outputs": [],
   "source": []
  }
 ],
 "metadata": {
  "kernelspec": {
   "display_name": "virtual-env",
   "language": "python",
   "name": "python3"
  },
  "language_info": {
   "codemirror_mode": {
    "name": "ipython",
    "version": 3
   },
   "file_extension": ".py",
   "mimetype": "text/x-python",
   "name": "python",
   "nbconvert_exporter": "python",
   "pygments_lexer": "ipython3",
   "version": "3.12.3"
  }
 },
 "nbformat": 4,
 "nbformat_minor": 5
}
